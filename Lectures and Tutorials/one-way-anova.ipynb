{
 "cells": [
  {
   "cell_type": "markdown",
   "metadata": {},
   "source": [
    "# One-way ANOVA\n",
    "\n",
    "***\n",
    "\n",
    "https://statistics.laerd.com/spss-tutorials/one-way-anova-using-spss-statistics.php"
   ]
  },
  {
   "cell_type": "code",
   "execution_count": 1,
   "metadata": {},
   "outputs": [],
   "source": [
    "import pandas as pd\n",
    "\n",
    "import seaborn as sns\n",
    "\n",
    "import scipy.stats as ss\n",
    "\n",
    "import numpy as np\n",
    "\n",
    "# Collections.\n",
    "import collections as co\n",
    "\n",
    "# Specials.\n",
    "import scipy.special as spec\n",
    "\n",
    "from statsmodels.stats.multicomp import pairwise_tukeyhsd"
   ]
  },
  {
   "cell_type": "code",
   "execution_count": 2,
   "metadata": {},
   "outputs": [],
   "source": [
    "df = pd.read_csv('https://raw.githubusercontent.com/ianmcloughlin/datasets/main/iris.csv')"
   ]
  },
  {
   "cell_type": "code",
   "execution_count": 3,
   "metadata": {},
   "outputs": [
    {
     "data": {
      "text/html": [
       "<div>\n",
       "<style scoped>\n",
       "    .dataframe tbody tr th:only-of-type {\n",
       "        vertical-align: middle;\n",
       "    }\n",
       "\n",
       "    .dataframe tbody tr th {\n",
       "        vertical-align: top;\n",
       "    }\n",
       "\n",
       "    .dataframe thead th {\n",
       "        text-align: right;\n",
       "    }\n",
       "</style>\n",
       "<table border=\"1\" class=\"dataframe\">\n",
       "  <thead>\n",
       "    <tr style=\"text-align: right;\">\n",
       "      <th></th>\n",
       "      <th>sepal_length</th>\n",
       "      <th>sepal_width</th>\n",
       "      <th>petal_length</th>\n",
       "      <th>petal_width</th>\n",
       "      <th>species</th>\n",
       "    </tr>\n",
       "  </thead>\n",
       "  <tbody>\n",
       "    <tr>\n",
       "      <th>0</th>\n",
       "      <td>5.1</td>\n",
       "      <td>3.5</td>\n",
       "      <td>1.4</td>\n",
       "      <td>0.2</td>\n",
       "      <td>setosa</td>\n",
       "    </tr>\n",
       "    <tr>\n",
       "      <th>1</th>\n",
       "      <td>4.9</td>\n",
       "      <td>3.0</td>\n",
       "      <td>1.4</td>\n",
       "      <td>0.2</td>\n",
       "      <td>setosa</td>\n",
       "    </tr>\n",
       "    <tr>\n",
       "      <th>2</th>\n",
       "      <td>4.7</td>\n",
       "      <td>3.2</td>\n",
       "      <td>1.3</td>\n",
       "      <td>0.2</td>\n",
       "      <td>setosa</td>\n",
       "    </tr>\n",
       "    <tr>\n",
       "      <th>3</th>\n",
       "      <td>4.6</td>\n",
       "      <td>3.1</td>\n",
       "      <td>1.5</td>\n",
       "      <td>0.2</td>\n",
       "      <td>setosa</td>\n",
       "    </tr>\n",
       "    <tr>\n",
       "      <th>4</th>\n",
       "      <td>5.0</td>\n",
       "      <td>3.6</td>\n",
       "      <td>1.4</td>\n",
       "      <td>0.2</td>\n",
       "      <td>setosa</td>\n",
       "    </tr>\n",
       "  </tbody>\n",
       "</table>\n",
       "</div>"
      ],
      "text/plain": [
       "   sepal_length  sepal_width  petal_length  petal_width species\n",
       "0           5.1          3.5           1.4          0.2  setosa\n",
       "1           4.9          3.0           1.4          0.2  setosa\n",
       "2           4.7          3.2           1.3          0.2  setosa\n",
       "3           4.6          3.1           1.5          0.2  setosa\n",
       "4           5.0          3.6           1.4          0.2  setosa"
      ]
     },
     "execution_count": 3,
     "metadata": {},
     "output_type": "execute_result"
    }
   ],
   "source": [
    "df.head()"
   ]
  },
  {
   "cell_type": "markdown",
   "metadata": {},
   "source": [
    "### Assumption 1: Dependent Variable"
   ]
  },
  {
   "cell_type": "code",
   "execution_count": 22,
   "metadata": {},
   "outputs": [],
   "source": [
    "# dependent variable\n",
    "dependent = df['petal_length']"
   ]
  },
  {
   "cell_type": "markdown",
   "metadata": {},
   "source": [
    "### Assumption 2: Independent Variable"
   ]
  },
  {
   "cell_type": "code",
   "execution_count": 23,
   "metadata": {},
   "outputs": [],
   "source": [
    "#indenendent variable\n",
    "independent = df['species']"
   ]
  },
  {
   "cell_type": "markdown",
   "metadata": {},
   "source": [
    "### Assumption 4: Outliers"
   ]
  },
  {
   "cell_type": "code",
   "execution_count": 24,
   "metadata": {},
   "outputs": [
    {
     "data": {
      "image/png": "[encoded data removed]",
      "text/plain": [
       "<Figure size 432x288 with 1 Axes>"
      ]
     },
     "metadata": {
      "needs_background": "light"
     },
     "output_type": "display_data"
    }
   ],
   "source": [
    "#outliers\n",
    "sns.boxplot(x=dependent);"
   ]
  },
  {
   "cell_type": "code",
   "execution_count": 25,
   "metadata": {},
   "outputs": [
    {
     "data": {
      "image/png": "[encoded data removed]",
      "text/plain": [
       "<Figure size 432x288 with 1 Axes>"
      ]
     },
     "metadata": {
      "needs_background": "light"
     },
     "output_type": "display_data"
    }
   ],
   "source": [
    "#outliers by cat\n",
    "sns.boxplot(x=dependent,y=independent);"
   ]
  },
  {
   "cell_type": "code",
   "execution_count": 30,
   "metadata": {},
   "outputs": [],
   "source": [
    "twenty_fifth_quantile = df.petal_length.quantile(.25)\n",
    "seventy_fifth_quantile = df.petal_length.quantile(.75)"
   ]
  },
  {
   "cell_type": "code",
   "execution_count": 31,
   "metadata": {},
   "outputs": [],
   "source": [
    "inter_quartile_range = (seventy_fifth_quantile - twenty_fifth_quantile)*1.5"
   ]
  },
  {
   "cell_type": "code",
   "execution_count": 32,
   "metadata": {},
   "outputs": [
    {
     "data": {
      "text/plain": [
       "10.349999999999998"
      ]
     },
     "execution_count": 32,
     "metadata": {},
     "output_type": "execute_result"
    }
   ],
   "source": [
    "upper = seventy_fifth_quantile + inter_quartile_range\n",
    "upper"
   ]
  },
  {
   "cell_type": "code",
   "execution_count": 33,
   "metadata": {},
   "outputs": [
    {
     "data": {
      "text/plain": [
       "-3.649999999999999"
      ]
     },
     "execution_count": 33,
     "metadata": {},
     "output_type": "execute_result"
    }
   ],
   "source": [
    "lower = twenty_fifth_quantile - inter_quartile_range\n",
    "lower"
   ]
  },
  {
   "cell_type": "markdown",
   "metadata": {},
   "source": [
    "### Assumption 5: Normality"
   ]
  },
  {
   "cell_type": "code",
   "execution_count": 34,
   "metadata": {},
   "outputs": [
    {
     "data": {
      "image/png": "[encoded data removed]",
      "text/plain": [
       "<Figure size 432x288 with 1 Axes>"
      ]
     },
     "metadata": {
      "needs_background": "light"
     },
     "output_type": "display_data"
    }
   ],
   "source": [
    "sns.kdeplot(dependent,fill=True);"
   ]
  },
  {
   "cell_type": "code",
   "execution_count": 35,
   "metadata": {},
   "outputs": [
    {
     "data": {
      "image/png": "[encoded data removed]",
      "text/plain": [
       "<Figure size 432x288 with 1 Axes>"
      ]
     },
     "metadata": {
      "needs_background": "light"
     },
     "output_type": "display_data"
    }
   ],
   "source": [
    "sns.kdeplot('sepal_length',fill=True,hue='species',data=df);"
   ]
  },
  {
   "cell_type": "code",
   "execution_count": 36,
   "metadata": {},
   "outputs": [
    {
     "data": {
      "image/png": "[encoded data removed]",
      "text/plain": [
       "<Figure size 444.75x360 with 1 Axes>"
      ]
     },
     "metadata": {
      "needs_background": "light"
     },
     "output_type": "display_data"
    }
   ],
   "source": [
    "sns.displot(x=dependent,hue=independent,kind='kde');"
   ]
  },
  {
   "cell_type": "markdown",
   "metadata": {},
   "source": [
    "#### shapiro test for normality\n",
    "\n",
    "https://docs.scipy.org/doc/scipy/reference/generated/scipy.stats.shapiro.html"
   ]
  },
  {
   "cell_type": "code",
   "execution_count": 37,
   "metadata": {},
   "outputs": [],
   "source": [
    "#extract setosa sepal_length\n",
    "sepal_len_setosa = dependent[independent == 'setosa']\n",
    "sepal_len_versi = dependent[independent == 'versicolor']\n",
    "sepal_len_vir = dependent[independent == 'virginica']\n"
   ]
  },
  {
   "cell_type": "code",
   "execution_count": 38,
   "metadata": {},
   "outputs": [
    {
     "name": "stdout",
     "output_type": "stream",
     "text": [
      "ShapiroResult(statistic=0.9549458622932434, pvalue=0.05464918911457062)\n",
      "ShapiroResult(statistic=0.9660047888755798, pvalue=0.1584833413362503)\n",
      "ShapiroResult(statistic=0.9621862769126892, pvalue=0.10977369546890259)\n"
     ]
    }
   ],
   "source": [
    "# run shapiro wilks test\n",
    "print(ss.shapiro(sepal_len_setosa))\n",
    "print(ss.shapiro(sepal_len_versi))\n",
    "print(ss.shapiro(sepal_len_vir))\n",
    "\n",
    "# p value > 0.05 consdier data normal"
   ]
  },
  {
   "cell_type": "markdown",
   "metadata": {},
   "source": [
    "### Assumption 6: Homogeneity of Variances\n",
    "\n",
    "https://docs.scipy.org/doc/scipy/reference/generated/scipy.stats.levene.html\n",
    "\n"
   ]
  },
  {
   "cell_type": "code",
   "execution_count": 39,
   "metadata": {},
   "outputs": [
    {
     "data": {
      "text/plain": [
       "LeveneResult(statistic=19.72005532503458, pvalue=2.5892961840828553e-08)"
      ]
     },
     "execution_count": 39,
     "metadata": {},
     "output_type": "execute_result"
    }
   ],
   "source": [
    "#test for equal variances\n",
    "\n",
    "# p < .05 unequal variance\n",
    "ss.levene(\n",
    "    sepal_len_setosa,\n",
    "    sepal_len_versi,\n",
    "    sepal_len_vir  \n",
    ")"
   ]
  },
  {
   "cell_type": "markdown",
   "metadata": {},
   "source": [
    "<br>\n",
    "\n",
    "### One-way ANOVA\n",
    "\n",
    "Even thoug assumption 6 and possible 4 a re looking bad we will continue for learning purposes\n",
    "\n",
    "https://docs.scipy.org/doc/scipy/reference/generated/scipy.stats.f_oneway.html\n",
    "\n",
    "***\n"
   ]
  },
  {
   "cell_type": "code",
   "execution_count": 40,
   "metadata": {},
   "outputs": [
    {
     "data": {
      "text/plain": [
       "F_onewayResult(statistic=1179.0343277002194, pvalue=3.0519758018278374e-91)"
      ]
     },
     "execution_count": 40,
     "metadata": {},
     "output_type": "execute_result"
    }
   ],
   "source": [
    "#ANOVA\n",
    "\n",
    "ss.f_oneway(\n",
    "    sepal_len_setosa,\n",
    "    sepal_len_versi,\n",
    "    sepal_len_vir  \n",
    ")"
   ]
  },
  {
   "cell_type": "markdown",
   "metadata": {},
   "source": [
    "* tiny p_value means reject null hypothesis\n",
    "\n",
    "**Conclusion** the mean sepal lengths of setosa,versicolor and virginicas are different"
   ]
  },
  {
   "cell_type": "code",
   "execution_count": 41,
   "metadata": {},
   "outputs": [],
   "source": [
    "def welch_anova_np(*args, var_equal=False):\n",
    "    # https://svn.r-project.org/R/trunk/src/library/stats/R/oneway.test.R\n",
    "    # translated from R Welch ANOVA (not assuming equal variance)\n",
    "\n",
    "    F_onewayResult = co.namedtuple('F_onewayResult', ('statistic', 'pvalue'))\n",
    "\n",
    "    args = [np.asarray(arg, dtype=float) for arg in args]\n",
    "    k = len(args)\n",
    "    ni = np.array([len(arg) for arg in args])\n",
    "    mi = np.array([np.mean(arg) for arg in args])\n",
    "    vi = np.array([np.var(arg,ddof=1) for arg in args])\n",
    "    wi = ni/vi\n",
    "\n",
    "    tmp =sum((1-wi/sum(wi))**2 / (ni-1))\n",
    "    tmp /= (k**2 -1)\n",
    "\n",
    "    dfbn = k - 1\n",
    "    dfwn = 1 / (3 * tmp)\n",
    "\n",
    "    m = sum(mi*wi) / sum(wi)\n",
    "    f = sum(wi * (mi - m)**2) /((dfbn) * (1 + 2 * (dfbn - 1) * tmp))\n",
    "    prob = spec.fdtrc(dfbn, dfwn, f)   # equivalent to stats.f.sf\n",
    "    return F_onewayResult(f, prob)"
   ]
  },
  {
   "cell_type": "code",
   "execution_count": 42,
   "metadata": {},
   "outputs": [
    {
     "data": {
      "text/plain": [
       "F_onewayResult(statistic=1826.580952419748, pvalue=2.853130661604845e-66)"
      ]
     },
     "execution_count": 42,
     "metadata": {},
     "output_type": "execute_result"
    }
   ],
   "source": [
    "# Perform the test.\n",
    "welch_anova_np(\n",
    "    sepal_len_setosa,\n",
    "    sepal_len_versi,\n",
    "    sepal_len_vir \n",
    ")"
   ]
  },
  {
   "cell_type": "markdown",
   "metadata": {},
   "source": [
    "**Conclusion** the mean sepal lengths of setosa,versicolor and virginicas are different"
   ]
  },
  {
   "cell_type": "markdown",
   "metadata": {},
   "source": [
    "### Post Hoc Tukey Test"
   ]
  },
  {
   "cell_type": "code",
   "execution_count": 43,
   "metadata": {},
   "outputs": [
    {
     "name": "stdout",
     "output_type": "stream",
     "text": [
      "   Multiple Comparison of Means - Tukey HSD, FWER=0.05   \n",
      "=========================================================\n",
      "  group1     group2   meandiff p-adj lower  upper  reject\n",
      "---------------------------------------------------------\n",
      "    setosa versicolor    2.796 0.001 2.5922 2.9998   True\n",
      "    setosa  virginica    4.088 0.001 3.8842 4.2918   True\n",
      "versicolor  virginica    1.292 0.001 1.0882 1.4958   True\n",
      "---------------------------------------------------------\n"
     ]
    }
   ],
   "source": [
    "\n",
    "# perform Tukey's test\n",
    "tukey = pairwise_tukeyhsd(endog=dependent,\n",
    "                          groups=independent,\n",
    "                          alpha=0.05)\n",
    "\n",
    "#display results\n",
    "print(tukey)"
   ]
  },
  {
   "cell_type": "code",
   "execution_count": null,
   "metadata": {},
   "outputs": [],
   "source": []
  },
  {
   "cell_type": "code",
   "execution_count": null,
   "metadata": {},
   "outputs": [],
   "source": []
  },
  {
   "cell_type": "code",
   "execution_count": null,
   "metadata": {},
   "outputs": [],
   "source": []
  }
 ],
 "metadata": {
  "kernelspec": {
   "display_name": "Python 3",
   "language": "python",
   "name": "python3"
  },
  "language_info": {
   "codemirror_mode": {
    "name": "ipython",
    "version": 3
   },
   "file_extension": ".py",
   "mimetype": "text/x-python",
   "name": "python",
   "nbconvert_exporter": "python",
   "pygments_lexer": "ipython3",
   "version": "3.8.3"
  }
 },
 "nbformat": 4,
 "nbformat_minor": 4
}
