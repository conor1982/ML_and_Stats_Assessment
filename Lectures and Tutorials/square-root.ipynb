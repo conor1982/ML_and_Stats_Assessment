{
 "cells": [
  {
   "cell_type": "markdown",
   "metadata": {},
   "source": [
    "# Square Roots\n",
    "\n",
    "***"
   ]
  },
  {
   "cell_type": "markdown",
   "metadata": {},
   "source": [
    "<br>\n",
    "\n",
    "## Integer square roots with squares\n",
    "\n",
    "***"
   ]
  },
  {
   "cell_type": "code",
   "execution_count": 1,
   "metadata": {},
   "outputs": [],
   "source": [
    "x = 225"
   ]
  },
  {
   "cell_type": "code",
   "execution_count": 2,
   "metadata": {},
   "outputs": [
    {
     "name": "stdout",
     "output_type": "stream",
     "text": [
      "15\n"
     ]
    }
   ],
   "source": [
    "#loop through values from 0 to x-1\n",
    "for i in range(x):\n",
    "    #check if i(squared) is equal to x\n",
    "    if (i **2) - x == 0:\n",
    "        print(i)\n",
    "        break"
   ]
  },
  {
   "cell_type": "code",
   "execution_count": 3,
   "metadata": {},
   "outputs": [],
   "source": [
    "x = 196"
   ]
  },
  {
   "cell_type": "code",
   "execution_count": 4,
   "metadata": {},
   "outputs": [
    {
     "name": "stdout",
     "output_type": "stream",
     "text": [
      "14\n"
     ]
    }
   ],
   "source": [
    "#loop through values from 0 to x-1\n",
    "for i in range(x):\n",
    "    #check if i(squared) is equal to x\n",
    "    if (i **2) - x == 0:\n",
    "        print(i)\n",
    "        break"
   ]
  },
  {
   "cell_type": "code",
   "execution_count": 5,
   "metadata": {},
   "outputs": [],
   "source": [
    "x = 200"
   ]
  },
  {
   "cell_type": "code",
   "execution_count": 6,
   "metadata": {},
   "outputs": [],
   "source": [
    "#loop through values from 0 to x-1\n",
    "for i in range(x):\n",
    "    #check if i(squared) is equal to x\n",
    "    if (i **2) - x == 0:\n",
    "        print(i)\n",
    "        break"
   ]
  },
  {
   "cell_type": "markdown",
   "metadata": {},
   "source": [
    "<br>\n",
    "\n",
    "## Non-Integer square roots\n",
    "\n",
    "***"
   ]
  },
  {
   "cell_type": "code",
   "execution_count": 7,
   "metadata": {},
   "outputs": [],
   "source": [
    "import numpy as np"
   ]
  },
  {
   "cell_type": "code",
   "execution_count": 8,
   "metadata": {},
   "outputs": [],
   "source": [
    "x = 200"
   ]
  },
  {
   "cell_type": "code",
   "execution_count": 9,
   "metadata": {},
   "outputs": [],
   "source": [
    "increment = 0.0001"
   ]
  },
  {
   "cell_type": "code",
   "execution_count": 10,
   "metadata": {},
   "outputs": [],
   "source": [
    "#loop through values from 0 to x-1\n",
    "for i in np.arange(0.0,x,increment):\n",
    "    #check if i(squared) is equal to x\n",
    "    if (i **2) - x == 0:\n",
    "        print(i)\n",
    "        break"
   ]
  },
  {
   "cell_type": "code",
   "execution_count": 11,
   "metadata": {},
   "outputs": [],
   "source": [
    "x = 200"
   ]
  },
  {
   "cell_type": "code",
   "execution_count": 12,
   "metadata": {},
   "outputs": [],
   "source": [
    "increment = 0.0001"
   ]
  },
  {
   "cell_type": "code",
   "execution_count": 13,
   "metadata": {},
   "outputs": [
    {
     "name": "stdout",
     "output_type": "stream",
     "text": [
      "14.1418\n",
      "nuumber of iterations: 141419\n"
     ]
    }
   ],
   "source": [
    "#track iterations\n",
    "no_iter=0\n",
    "\n",
    "#loop through values from 0 to x-1\n",
    "for i in np.arange(0.0,x,increment):\n",
    "    no_iter = no_iter +1\n",
    "    #check if i(squared) is equal to x\n",
    "    if abs((i **2) - x) <= 0.01:\n",
    "        print(i)\n",
    "        break\n",
    "        \n",
    "print(f\"nuumber of iterations: {no_iter}\")"
   ]
  },
  {
   "cell_type": "markdown",
   "metadata": {},
   "source": [
    "<br>\n",
    "\n",
    "### square root of 2"
   ]
  },
  {
   "cell_type": "markdown",
   "metadata": {},
   "source": [
    "$ \\sqrt{200} = \\sqrt{2(100)} = \\sqrt{2}\\sqrt{100} = 10\\sqrt{2} $"
   ]
  },
  {
   "cell_type": "markdown",
   "metadata": {},
   "source": [
    "$ \\sqrt{2} \\neq \\frac{a}{b} $"
   ]
  },
  {
   "cell_type": "code",
   "execution_count": 14,
   "metadata": {},
   "outputs": [
    {
     "data": {
      "text/plain": [
       "14.142135623730951"
      ]
     },
     "execution_count": 14,
     "metadata": {},
     "output_type": "execute_result"
    }
   ],
   "source": [
    "np.sqrt(200)"
   ]
  },
  {
   "cell_type": "markdown",
   "metadata": {},
   "source": [
    "<br>\n",
    "\n",
    "#### Newtons Method\n",
    "\n",
    "***"
   ]
  },
  {
   "cell_type": "code",
   "execution_count": 15,
   "metadata": {},
   "outputs": [],
   "source": [
    "#looking for square root of x\n",
    "x=200"
   ]
  },
  {
   "cell_type": "code",
   "execution_count": 24,
   "metadata": {},
   "outputs": [
    {
     "name": "stdout",
     "output_type": "stream",
     "text": [
      "14\n",
      "14.142857142857142\n",
      "14.142135642135642\n",
      "no of iterations: 2\n",
      "[14, 14.142857142857142]\n",
      "14.142857142857142\n"
     ]
    }
   ],
   "source": [
    "#initial guess\n",
    "z = 14\n",
    "\n",
    "#track iterations\n",
    "no_iter = 0\n",
    "\n",
    "# array of guess results\n",
    "guess_res = []\n",
    "\n",
    "#loop until we get a good approx\n",
    "while abs(z**2 - x) > .01:\n",
    "    no_iter +=1\n",
    "    guess_res.append(z)\n",
    "    print(z)\n",
    "    z = z - ((z**2-x)/(2*z))\n",
    "\n",
    "#result\n",
    "print(z)\n",
    "\n",
    "#iterations\n",
    "print(f\"no of iterations: {no_iter}\")\n",
    "print(guess_res)\n",
    "print(guess_res[-1])"
   ]
  },
  {
   "cell_type": "markdown",
   "metadata": {},
   "source": [
    "***\n",
    "\n",
    "### Why does it work?\n",
    "\n",
    "$ f(z) = (z^2 -x)$\n",
    "\n",
    "$ f'(z) = 2z$\n",
    "\n"
   ]
  },
  {
   "cell_type": "code",
   "execution_count": 17,
   "metadata": {},
   "outputs": [],
   "source": [
    "import matplotlib.pyplot as plt\n",
    "\n",
    "plt.rcParams['figure.figsize'] = (16,8)"
   ]
  },
  {
   "cell_type": "code",
   "execution_count": 18,
   "metadata": {},
   "outputs": [
    {
     "data": {
      "image/png": "[encoded data removed]",
      "text/plain": [
       "<Figure size 1152x576 with 1 Axes>"
      ]
     },
     "metadata": {
      "needs_background": "light"
     },
     "output_type": "display_data"
    }
   ],
   "source": [
    "fig, ax = plt.subplots()\n",
    "\n",
    "x=200\n",
    "z = np.linspace(10.0,20.0,1000)\n",
    "\n",
    "#ax.plot(z,np.zeros(z.size),'k:',label='$x$-axis')\n",
    "ax.plot(z,z-((z**2-x)/(2*z)),label='$z -((z^2 - x)/2z)$')\n",
    "ax.set_xlabel('$z$')\n",
    "ax.legend();"
   ]
  },
  {
   "cell_type": "code",
   "execution_count": null,
   "metadata": {},
   "outputs": [],
   "source": []
  },
  {
   "cell_type": "code",
   "execution_count": null,
   "metadata": {},
   "outputs": [],
   "source": []
  }
 ],
 "metadata": {
  "kernelspec": {
   "display_name": "Python 3",
   "language": "python",
   "name": "python3"
  },
  "language_info": {
   "codemirror_mode": {
    "name": "ipython",
    "version": 3
   },
   "file_extension": ".py",
   "mimetype": "text/x-python",
   "name": "python",
   "nbconvert_exporter": "python",
   "pygments_lexer": "ipython3",
   "version": "3.8.3"
  }
 },
 "nbformat": 4,
 "nbformat_minor": 4
}
